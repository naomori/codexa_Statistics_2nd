{
  "nbformat": 4,
  "nbformat_minor": 0,
  "metadata": {
    "colab": {
      "name": "Exercises.ipynb",
      "version": "0.3.2",
      "provenance": [],
      "include_colab_link": true
    },
    "kernelspec": {
      "name": "python3",
      "display_name": "Python 3"
    }
  },
  "cells": [
    {
      "cell_type": "markdown",
      "metadata": {
        "id": "view-in-github",
        "colab_type": "text"
      },
      "source": [
        "<a href=\"https://colab.research.google.com/github/naomori/codexa_Statistics_2nd/blob/master/Exercises.ipynb\" target=\"_parent\"><img src=\"https://colab.research.google.com/assets/colab-badge.svg\" alt=\"Open In Colab\"/></a>"
      ]
    },
    {
      "cell_type": "markdown",
      "metadata": {
        "id": "aRTBuZBokYaG",
        "colab_type": "text"
      },
      "source": [
        "# Question.1"
      ]
    },
    {
      "cell_type": "code",
      "metadata": {
        "id": "VrU2hSHDkWy6",
        "colab_type": "code",
        "colab": {
          "base_uri": "https://localhost:8080/",
          "height": 34
        },
        "outputId": "7ebf5e67-b7a1-4a15-b59e-dc782aef80cd"
      },
      "source": [
        "(92 - 83) / 3.0"
      ],
      "execution_count": 1,
      "outputs": [
        {
          "output_type": "execute_result",
          "data": {
            "text/plain": [
              "3.0"
            ]
          },
          "metadata": {
            "tags": []
          },
          "execution_count": 1
        }
      ]
    },
    {
      "cell_type": "markdown",
      "metadata": {
        "id": "xYhODCKdkg4a",
        "colab_type": "text"
      },
      "source": [
        "answer : 3"
      ]
    },
    {
      "cell_type": "markdown",
      "metadata": {
        "id": "jdSBnk6ykjRK",
        "colab_type": "text"
      },
      "source": [
        "# Question.2\n",
        "\n",
        "answer : B"
      ]
    },
    {
      "cell_type": "markdown",
      "metadata": {
        "id": "xXPIioxkkx9E",
        "colab_type": "text"
      },
      "source": [
        "# Question.3\n",
        "\n",
        "answer : -0/7"
      ]
    },
    {
      "cell_type": "markdown",
      "metadata": {
        "id": "-UPqzCysk2hO",
        "colab_type": "text"
      },
      "source": [
        "# Question.4\n"
      ]
    },
    {
      "cell_type": "code",
      "metadata": {
        "id": "H0D8077Xkd8V",
        "colab_type": "code",
        "colab": {
          "base_uri": "https://localhost:8080/",
          "height": 34
        },
        "outputId": "fb281efc-b911-4295-f2ed-6dc97d634e01"
      },
      "source": [
        "0.41 * 22.4 - 0.55"
      ],
      "execution_count": 2,
      "outputs": [
        {
          "output_type": "execute_result",
          "data": {
            "text/plain": [
              "8.633999999999999"
            ]
          },
          "metadata": {
            "tags": []
          },
          "execution_count": 2
        }
      ]
    },
    {
      "cell_type": "markdown",
      "metadata": {
        "id": "ddnnixJjlCpT",
        "colab_type": "text"
      },
      "source": [
        "answer: 8.634"
      ]
    },
    {
      "cell_type": "code",
      "metadata": {
        "id": "ful9HYYLlA9s",
        "colab_type": "code",
        "colab": {}
      },
      "source": [
        ""
      ],
      "execution_count": 0,
      "outputs": []
    }
  ]
}