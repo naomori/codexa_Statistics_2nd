{
  "nbformat": 4,
  "nbformat_minor": 0,
  "metadata": {
    "colab": {
      "name": "Chapter7.ipynb",
      "version": "0.3.2",
      "provenance": [],
      "include_colab_link": true
    },
    "kernelspec": {
      "name": "python3",
      "display_name": "Python 3"
    }
  },
  "cells": [
    {
      "cell_type": "markdown",
      "metadata": {
        "id": "view-in-github",
        "colab_type": "text"
      },
      "source": [
        "<a href=\"https://colab.research.google.com/github/naomori/codexa_Statistics_2nd/blob/master/Chapter7.ipynb\" target=\"_parent\"><img src=\"https://colab.research.google.com/assets/colab-badge.svg\" alt=\"Open In Colab\"/></a>"
      ]
    },
    {
      "cell_type": "markdown",
      "metadata": {
        "id": "pnV97_pjs4En",
        "colab_type": "text"
      },
      "source": [
        "# 相関係数\n",
        "\n"
      ]
    },
    {
      "cell_type": "code",
      "metadata": {
        "id": "HlpFP1H_tSpV",
        "colab_type": "code",
        "colab": {}
      },
      "source": [
        "import statistics as stats\n",
        "import numpy as np\n",
        "import pandas as pd\n",
        "import matplotlib.pyplot as plt"
      ],
      "execution_count": 0,
      "outputs": []
    },
    {
      "cell_type": "code",
      "metadata": {
        "id": "YCLjqeBPs0gP",
        "colab_type": "code",
        "colab": {}
      },
      "source": [
        "x = np.array([1, 3, 4, 6])\n",
        "y = np.array([1, 2, 5, 8])\n",
        "nd = np.array([x, y])\n",
        "df = pd.DataFrame(nd)\n"
      ],
      "execution_count": 0,
      "outputs": []
    },
    {
      "cell_type": "code",
      "metadata": {
        "id": "-Oal9QLitabo",
        "colab_type": "code",
        "colab": {
          "base_uri": "https://localhost:8080/",
          "height": 107
        },
        "outputId": "62b5fe98-eb76-4a58-aa65-e78fc542a862"
      },
      "source": [
        "df"
      ],
      "execution_count": 53,
      "outputs": [
        {
          "output_type": "execute_result",
          "data": {
            "text/html": [
              "<div>\n",
              "<style scoped>\n",
              "    .dataframe tbody tr th:only-of-type {\n",
              "        vertical-align: middle;\n",
              "    }\n",
              "\n",
              "    .dataframe tbody tr th {\n",
              "        vertical-align: top;\n",
              "    }\n",
              "\n",
              "    .dataframe thead th {\n",
              "        text-align: right;\n",
              "    }\n",
              "</style>\n",
              "<table border=\"1\" class=\"dataframe\">\n",
              "  <thead>\n",
              "    <tr style=\"text-align: right;\">\n",
              "      <th></th>\n",
              "      <th>0</th>\n",
              "      <th>1</th>\n",
              "      <th>2</th>\n",
              "      <th>3</th>\n",
              "    </tr>\n",
              "  </thead>\n",
              "  <tbody>\n",
              "    <tr>\n",
              "      <th>0</th>\n",
              "      <td>1</td>\n",
              "      <td>3</td>\n",
              "      <td>4</td>\n",
              "      <td>6</td>\n",
              "    </tr>\n",
              "    <tr>\n",
              "      <th>1</th>\n",
              "      <td>1</td>\n",
              "      <td>2</td>\n",
              "      <td>5</td>\n",
              "      <td>8</td>\n",
              "    </tr>\n",
              "  </tbody>\n",
              "</table>\n",
              "</div>"
            ],
            "text/plain": [
              "   0  1  2  3\n",
              "0  1  3  4  6\n",
              "1  1  2  5  8"
            ]
          },
          "metadata": {
            "tags": []
          },
          "execution_count": 53
        }
      ]
    },
    {
      "cell_type": "code",
      "metadata": {
        "id": "imj1ZZqTtbJB",
        "colab_type": "code",
        "colab": {
          "base_uri": "https://localhost:8080/",
          "height": 52
        },
        "outputId": "21628fc3-ce3a-4f78-f720-d9356e1cb58b"
      },
      "source": [
        "x_mean = stats.mean(x)\n",
        "x_pstdev  = stats.pstdev(x)\n",
        "print(x_mean, x_pstdev)\n",
        "y_mean = stats.mean(y)\n",
        "y_pstdev  = stats.pstdev(y)\n",
        "print(y_mean, y_pstdev)"
      ],
      "execution_count": 19,
      "outputs": [
        {
          "output_type": "stream",
          "text": [
            "3.5 1.8027756377319946\n",
            "4 2.7386127875258306\n"
          ],
          "name": "stdout"
        }
      ]
    },
    {
      "cell_type": "markdown",
      "metadata": {
        "id": "cEB7MipQucRu",
        "colab_type": "text"
      },
      "source": [
        "#### 相関係数(correlation coefficient)の式\n",
        "\n",
        "* $r$: 相関係数\n",
        "* $S_{xy}$ : x と y の共分散(**covariance**)\n",
        "* $S_x$ : x の標準偏差\n",
        "* $S_y$ : y の標準偏差\n",
        "\n",
        "\n",
        "$r = \\frac{S_{xy}}{S_xS_y}$\n",
        "\n",
        "$S_{xy} = \\frac{1}{n}\\sum_{i=1}^{n}(x_i-\\overline{x})(y_i-\\overline{y})$"
      ]
    },
    {
      "cell_type": "code",
      "metadata": {
        "id": "rOl7r7MKt0yX",
        "colab_type": "code",
        "colab": {
          "base_uri": "https://localhost:8080/",
          "height": 52
        },
        "outputId": "878aec2e-c92f-48fb-f08b-dd6e91409874"
      },
      "source": [
        "def p_covariance(x, y):\n",
        "  sum = 0\n",
        "  for i in range(0, len(x)):\n",
        "    sum += (stats.mean(x) - x[i]) * (stats.mean(y) - y[i])\n",
        "  return sum / len(x)\n",
        "\n",
        "sxy = p_covariance(x, y)\n",
        "print(sxy)\n",
        "r = sxy / (x_pstdev * y_pstdev)\n",
        "print(r)"
      ],
      "execution_count": 45,
      "outputs": [
        {
          "output_type": "stream",
          "text": [
            "4.75\n",
            "0.9621023987294833\n"
          ],
          "name": "stdout"
        }
      ]
    },
    {
      "cell_type": "markdown",
      "metadata": {
        "id": "22oymG_i3ON9",
        "colab_type": "text"
      },
      "source": [
        "あるいは、Numpy でも求められる"
      ]
    },
    {
      "cell_type": "code",
      "metadata": {
        "id": "g8V9Mm8L3Ry0",
        "colab_type": "code",
        "colab": {
          "base_uri": "https://localhost:8080/",
          "height": 34
        },
        "outputId": "c1950abe-3507-4315-ad87-be48a5991af6"
      },
      "source": [
        "cov = np.cov(x, y, ddof=0)[0,1]\n",
        "print(cov)"
      ],
      "execution_count": 56,
      "outputs": [
        {
          "output_type": "stream",
          "text": [
            "4.75\n"
          ],
          "name": "stdout"
        }
      ]
    },
    {
      "cell_type": "code",
      "metadata": {
        "id": "Y_ClUoHXwpSn",
        "colab_type": "code",
        "colab": {
          "base_uri": "https://localhost:8080/",
          "height": 34
        },
        "outputId": "c9b10f96-488d-44bc-bbe5-b87c3afc59c3"
      },
      "source": [
        "corrcoef = np.corrcoef(x, y)[0, 1]\n",
        "print(corrcoef)"
      ],
      "execution_count": 57,
      "outputs": [
        {
          "output_type": "stream",
          "text": [
            "0.9621023987294832\n"
          ],
          "name": "stdout"
        }
      ]
    },
    {
      "cell_type": "code",
      "metadata": {
        "id": "WR-XqdN42VYB",
        "colab_type": "code",
        "colab": {}
      },
      "source": [
        ""
      ],
      "execution_count": 0,
      "outputs": []
    }
  ]
}