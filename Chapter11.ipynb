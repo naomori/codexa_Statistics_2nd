{
  "nbformat": 4,
  "nbformat_minor": 0,
  "metadata": {
    "colab": {
      "name": "Chapter11.ipynb",
      "version": "0.3.2",
      "provenance": [],
      "include_colab_link": true
    },
    "kernelspec": {
      "name": "python3",
      "display_name": "Python 3"
    }
  },
  "cells": [
    {
      "cell_type": "markdown",
      "metadata": {
        "id": "view-in-github",
        "colab_type": "text"
      },
      "source": [
        "<a href=\"https://colab.research.google.com/github/naomori/codexa_Statistics_2nd/blob/master/Chapter11.ipynb\" target=\"_parent\"><img src=\"https://colab.research.google.com/assets/colab-badge.svg\" alt=\"Open In Colab\"/></a>"
      ]
    },
    {
      "cell_type": "markdown",
      "metadata": {
        "id": "UBwOAd05gjYO",
        "colab_type": "text"
      },
      "source": [
        "# 最急降下法(Gradient Descent)\n",
        "\n",
        "初期値 $w_0, w_1 = (0, 0)$\n",
        "\n",
        "$\\hat{y} = w_{1}x + w_{0}$\n",
        "\n",
        "新たなモデルパラメタを算出する。\n",
        "\n",
        "#### コスト関数（目的関数）\n",
        "\n",
        "$J(w_0, w_1) = \\frac{1}{2m}\\sum_{i=1}^{m}(\\hat{y_i}-y_i)^2$\n",
        "\n",
        "\n"
      ]
    },
    {
      "cell_type": "markdown",
      "metadata": {
        "id": "dltF-BtehqNh",
        "colab_type": "text"
      },
      "source": [
        "# 最急降下法（Gradient Descent）の数式\n",
        "\n",
        "* $w_0 := w_0 - \\alpha\\frac{\\partial}{\\partial w_0}J(w_0, w_1)$\n",
        "* $w_1 := w_1 - \\alpha\\frac{\\partial}{\\partial w_1}J(w_0, w_1)$\n",
        "\n"
      ]
    },
    {
      "cell_type": "code",
      "metadata": {
        "id": "VD5vEITHghM3",
        "colab_type": "code",
        "colab": {}
      },
      "source": [
        ""
      ],
      "execution_count": 0,
      "outputs": []
    }
  ]
}