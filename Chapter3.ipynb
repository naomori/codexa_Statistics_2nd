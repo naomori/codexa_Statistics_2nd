{
  "nbformat": 4,
  "nbformat_minor": 0,
  "metadata": {
    "colab": {
      "name": "Chapter3.ipynb",
      "version": "0.3.2",
      "provenance": [],
      "include_colab_link": true
    },
    "kernelspec": {
      "name": "python3",
      "display_name": "Python 3"
    }
  },
  "cells": [
    {
      "cell_type": "markdown",
      "metadata": {
        "id": "view-in-github",
        "colab_type": "text"
      },
      "source": [
        "<a href=\"https://colab.research.google.com/github/naomori/codexa_Statistics_2nd/blob/master/Chapter3.ipynb\" target=\"_parent\"><img src=\"https://colab.research.google.com/assets/colab-badge.svg\" alt=\"Open In Colab\"/></a>"
      ]
    },
    {
      "cell_type": "markdown",
      "metadata": {
        "id": "e2ecA48sQteg",
        "colab_type": "text"
      },
      "source": [
        "# Zスコア\n",
        "\n",
        "* 平均から標準偏差何個分離れているか？を表す\n",
        "* （データポイント - 平均）% 標準偏差"
      ]
    },
    {
      "cell_type": "markdown",
      "metadata": {
        "id": "E2pSg4wVTxZb",
        "colab_type": "text"
      },
      "source": [
        "## 練習問題１．\n",
        "\n",
        "とある学校の期末テストの点数は正規分布に従っており、平均μ=76, 標準偏差=7.2でした。下記のZスコアを求めよ。\n",
        "\n",
        "（あ） 52\n",
        "（い） 74\n",
        "（う） 98"
      ]
    },
    {
      "cell_type": "code",
      "metadata": {
        "id": "9EJsgu5qQr16",
        "colab_type": "code",
        "colab": {
          "base_uri": "https://localhost:8080/",
          "height": 69
        },
        "outputId": "0a68175b-45d8-43c8-b948-e011ff44bc79"
      },
      "source": [
        "print((52 - 76) / 7.2)\n",
        "print((74-76)/7.2)\n",
        "print((98-76)/7.2)\n"
      ],
      "execution_count": 1,
      "outputs": [
        {
          "output_type": "stream",
          "text": [
            "-3.333333333333333\n",
            "-0.2777777777777778\n",
            "3.0555555555555554\n"
          ],
          "name": "stdout"
        }
      ]
    },
    {
      "cell_type": "markdown",
      "metadata": {
        "id": "5z4M74AdT-X5",
        "colab_type": "text"
      },
      "source": [
        "## 練習問題２．\n",
        "とある学校の物理と数学のテストの結果\n",
        "* 物理：平均87, 標準偏差 6.4\n",
        "* 数学：平均74, 標準偏差 3.2\n",
        "\n",
        "#### Aくんの結果\n",
        "物理 92, 数学 82 のどちらの科目が比較的に良い結果だったか？  \n",
        "を表すのに Z スコアを使ってみる"
      ]
    },
    {
      "cell_type": "code",
      "metadata": {
        "id": "4XZeEqyjT6fB",
        "colab_type": "code",
        "colab": {
          "base_uri": "https://localhost:8080/",
          "height": 34
        },
        "outputId": "d08b0c2d-fb79-4422-a00f-bdaa26f5a807"
      },
      "source": [
        "phy_z = (92-87)/6.4\n",
        "mat_z = (82-74)/3.2\n",
        "print(phy_z, mat_z)"
      ],
      "execution_count": 2,
      "outputs": [
        {
          "output_type": "stream",
          "text": [
            "0.78125 2.5\n"
          ],
          "name": "stdout"
        }
      ]
    },
    {
      "cell_type": "code",
      "metadata": {
        "id": "lcZIX2dRUAhO",
        "colab_type": "code",
        "colab": {}
      },
      "source": [
        ""
      ],
      "execution_count": 0,
      "outputs": []
    }
  ]
}