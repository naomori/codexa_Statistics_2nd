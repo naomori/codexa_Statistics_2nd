{
  "nbformat": 4,
  "nbformat_minor": 0,
  "metadata": {
    "colab": {
      "name": "Chapter4.ipynb",
      "version": "0.3.2",
      "provenance": [],
      "include_colab_link": true
    },
    "kernelspec": {
      "name": "python3",
      "display_name": "Python 3"
    }
  },
  "cells": [
    {
      "cell_type": "markdown",
      "metadata": {
        "id": "view-in-github",
        "colab_type": "text"
      },
      "source": [
        "<a href=\"https://colab.research.google.com/github/naomori/codexa_Statistics_2nd/blob/master/Chapter4.ipynb\" target=\"_parent\"><img src=\"https://colab.research.google.com/assets/colab-badge.svg\" alt=\"Open In Colab\"/></a>"
      ]
    },
    {
      "cell_type": "markdown",
      "metadata": {
        "id": "wa_NiOWcUMHt",
        "colab_type": "text"
      },
      "source": [
        "# 密度曲線（Density Curve）\n",
        "\n",
        "データの分布を可視化するグラフ（曲線）"
      ]
    },
    {
      "cell_type": "code",
      "metadata": {
        "id": "NKcCTTs-UKf6",
        "colab_type": "code",
        "colab": {}
      },
      "source": [
        "import numpy as np\n",
        "import matplotlib.pyplot as plt"
      ],
      "execution_count": 0,
      "outputs": []
    },
    {
      "cell_type": "code",
      "metadata": {
        "id": "ZBiH-2PpUYik",
        "colab_type": "code",
        "colab": {
          "base_uri": "https://localhost:8080/",
          "height": 34
        },
        "outputId": "8db67d7c-a30f-45dc-d540-91f5a206d65d"
      },
      "source": [
        "coffee = np.array([0.4, 0.8, 1.2, 2.2, 2.3, 2.3, 3.0, 3.0, 3.0, 3.1,\n",
        "           3.3, 3.5, 3.8, 4.1, 4.8, 4.9, 5.1, 5.7, 6.9, 7.1])\n",
        "coffee.size\n"
      ],
      "execution_count": 3,
      "outputs": [
        {
          "output_type": "execute_result",
          "data": {
            "text/plain": [
              "20"
            ]
          },
          "metadata": {
            "tags": []
          },
          "execution_count": 3
        }
      ]
    },
    {
      "cell_type": "code",
      "metadata": {
        "id": "jNr3lNUOUzZH",
        "colab_type": "code",
        "colab": {
          "base_uri": "https://localhost:8080/",
          "height": 269
        },
        "outputId": "99a20355-9d43-450c-e5bc-f13a664d7810"
      },
      "source": [
        "plt.hist(coffee, range=[0,10])\n",
        "plt.grid(True)\n",
        "plt.show()"
      ],
      "execution_count": 4,
      "outputs": [
        {
          "output_type": "display_data",
          "data": {
            "image/png": "[encoded data removed]",
            "text/plain": [
              "<Figure size 432x288 with 1 Axes>"
            ]
          },
          "metadata": {
            "tags": []
          }
        }
      ]
    },
    {
      "cell_type": "markdown",
      "metadata": {
        "id": "81fdLz8xdWob",
        "colab_type": "text"
      },
      "source": [
        "データ数が大きい場合は、相対度数を使うと良い。"
      ]
    },
    {
      "cell_type": "code",
      "metadata": {
        "id": "Jpwe702gU5YO",
        "colab_type": "code",
        "colab": {
          "base_uri": "https://localhost:8080/",
          "height": 321
        },
        "outputId": "20474677-76c0-4e79-8562-3c5f3b3fffd1"
      },
      "source": [
        "plt.hist(coffee, weights=np.zeros_like(coffee) + 1 / coffee.size * 100, range=[0,10])"
      ],
      "execution_count": 5,
      "outputs": [
        {
          "output_type": "execute_result",
          "data": {
            "text/plain": [
              "(array([10.,  5., 15., 35., 15., 10.,  5.,  5.,  0.,  0.]),\n",
              " array([ 0.,  1.,  2.,  3.,  4.,  5.,  6.,  7.,  8.,  9., 10.]),\n",
              " <a list of 10 Patch objects>)"
            ]
          },
          "metadata": {
            "tags": []
          },
          "execution_count": 5
        },
        {
          "output_type": "display_data",
          "data": {
            "image/png": "[encoded data removed]",
            "text/plain": [
              "<Figure size 432x288 with 1 Axes>"
            ]
          },
          "metadata": {
            "tags": []
          }
        }
      ]
    },
    {
      "cell_type": "code",
      "metadata": {
        "id": "rIGHz_Jgd3hU",
        "colab_type": "code",
        "colab": {}
      },
      "source": [
        "coffee_2 = np.random.normal(5.0, 1.0, 1000)"
      ],
      "execution_count": 0,
      "outputs": []
    },
    {
      "cell_type": "code",
      "metadata": {
        "id": "oUhWRWrseyCt",
        "colab_type": "code",
        "colab": {
          "base_uri": "https://localhost:8080/",
          "height": 34
        },
        "outputId": "e2eb9bdf-6b4c-4d6c-a56c-d29a4382d023"
      },
      "source": [
        "coffee_2.mean()"
      ],
      "execution_count": 8,
      "outputs": [
        {
          "output_type": "execute_result",
          "data": {
            "text/plain": [
              "4.979157386721977"
            ]
          },
          "metadata": {
            "tags": []
          },
          "execution_count": 8
        }
      ]
    },
    {
      "cell_type": "code",
      "metadata": {
        "id": "kJ6Y_Bkee1yo",
        "colab_type": "code",
        "colab": {
          "base_uri": "https://localhost:8080/",
          "height": 34
        },
        "outputId": "df5b1b6c-cfa1-4776-e046-db58ac832e64"
      },
      "source": [
        "coffee_2.std()"
      ],
      "execution_count": 9,
      "outputs": [
        {
          "output_type": "execute_result",
          "data": {
            "text/plain": [
              "0.9848218939791039"
            ]
          },
          "metadata": {
            "tags": []
          },
          "execution_count": 9
        }
      ]
    },
    {
      "cell_type": "code",
      "metadata": {
        "id": "n9qIUh-qe4NL",
        "colab_type": "code",
        "colab": {
          "base_uri": "https://localhost:8080/",
          "height": 34
        },
        "outputId": "c901a0fa-5449-40ba-9e52-126673d9d009"
      },
      "source": [
        "coffee_2.size"
      ],
      "execution_count": 10,
      "outputs": [
        {
          "output_type": "execute_result",
          "data": {
            "text/plain": [
              "1000"
            ]
          },
          "metadata": {
            "tags": []
          },
          "execution_count": 10
        }
      ]
    },
    {
      "cell_type": "code",
      "metadata": {
        "id": "Z-b8gh5Oe-Hc",
        "colab_type": "code",
        "colab": {
          "base_uri": "https://localhost:8080/",
          "height": 356
        },
        "outputId": "c28343f7-0e11-4940-da5c-5bbf59c51f99"
      },
      "source": [
        "plt.hist(coffee_2, weights=np.zeros_like(coffee_2) + 1/coffee_2.size * 100,\n",
        "         range=[0,10], bins=20)"
      ],
      "execution_count": 11,
      "outputs": [
        {
          "output_type": "execute_result",
          "data": {
            "text/plain": [
              "(array([ 0. ,  0. ,  0.1,  0.1,  0.4,  2.1,  4.8,  8.5, 14.5, 19.2, 19.6,\n",
              "        16.2,  8.6,  4.6,  0.6,  0.6,  0.1,  0. ,  0. ,  0. ]),\n",
              " array([ 0. ,  0.5,  1. ,  1.5,  2. ,  2.5,  3. ,  3.5,  4. ,  4.5,  5. ,\n",
              "         5.5,  6. ,  6.5,  7. ,  7.5,  8. ,  8.5,  9. ,  9.5, 10. ]),\n",
              " <a list of 20 Patch objects>)"
            ]
          },
          "metadata": {
            "tags": []
          },
          "execution_count": 11
        },
        {
          "output_type": "display_data",
          "data": {
            "image/png": "[encoded data removed]",
            "text/plain": [
              "<Figure size 432x288 with 1 Axes>"
            ]
          },
          "metadata": {
            "tags": []
          }
        }
      ]
    },
    {
      "cell_type": "code",
      "metadata": {
        "id": "tXidBm2PfMy7",
        "colab_type": "code",
        "colab": {
          "base_uri": "https://localhost:8080/",
          "height": 269
        },
        "outputId": "945654b3-729b-404e-d826-5acabaad1b19"
      },
      "source": [
        "plt.hist(coffee_2, weights=np.zeros_like(coffee_2) + 1/coffee_2.size * 100,\n",
        "         range=[0,10], bins=100)\n",
        "plt.grid(True)\n",
        "plt.show()"
      ],
      "execution_count": 12,
      "outputs": [
        {
          "output_type": "display_data",
          "data": {
            "image/png": "[encoded data removed]",
            "text/plain": [
              "<Figure size 432x288 with 1 Axes>"
            ]
          },
          "metadata": {
            "tags": []
          }
        }
      ]
    },
    {
      "cell_type": "markdown",
      "metadata": {
        "id": "eGvCul6IfofJ",
        "colab_type": "text"
      },
      "source": [
        "# 密度曲線(Density Curve)\n",
        "\n",
        "* データの分布が可視化されている\n",
        "* 密度曲線はマイナスの値を持たない"
      ]
    },
    {
      "cell_type": "code",
      "metadata": {
        "id": "x0DGqbuVfZnD",
        "colab_type": "code",
        "colab": {}
      },
      "source": [
        "import pandas as pd"
      ],
      "execution_count": 0,
      "outputs": []
    },
    {
      "cell_type": "code",
      "metadata": {
        "id": "aMcpn27Pfq7D",
        "colab_type": "code",
        "colab": {
          "base_uri": "https://localhost:8080/",
          "height": 269
        },
        "outputId": "ae436a77-4046-4399-a300-afd41cce9ffb"
      },
      "source": [
        "cf2 = pd.DataFrame(coffee_2).plot(kind='Density')\n",
        "plt.grid(True)\n",
        "plt.show()"
      ],
      "execution_count": 19,
      "outputs": [
        {
          "output_type": "display_data",
          "data": {
            "image/png": "[encoded data removed]",
            "text/plain": [
              "<Figure size 432x288 with 1 Axes>"
            ]
          },
          "metadata": {
            "tags": []
          }
        }
      ]
    },
    {
      "cell_type": "markdown",
      "metadata": {
        "id": "Ytozi55CgNzQ",
        "colab_type": "text"
      },
      "source": [
        "４杯以下のデータは何％か？ -> おおよその面積を見てみる。"
      ]
    },
    {
      "cell_type": "markdown",
      "metadata": {
        "id": "ncafsmiagNsw",
        "colab_type": "text"
      },
      "source": [
        ""
      ]
    }
  ]
}