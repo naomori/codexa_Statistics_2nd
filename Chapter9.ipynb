{
  "nbformat": 4,
  "nbformat_minor": 0,
  "metadata": {
    "colab": {
      "name": "Chapter9.ipynb",
      "version": "0.3.2",
      "provenance": [],
      "include_colab_link": true
    },
    "kernelspec": {
      "name": "python3",
      "display_name": "Python 3"
    }
  },
  "cells": [
    {
      "cell_type": "markdown",
      "metadata": {
        "id": "view-in-github",
        "colab_type": "text"
      },
      "source": [
        "<a href=\"https://colab.research.google.com/github/naomori/codexa_Statistics_2nd/blob/master/Chapter9.ipynb\" target=\"_parent\"><img src=\"https://colab.research.google.com/assets/colab-badge.svg\" alt=\"Open In Colab\"/></a>"
      ]
    },
    {
      "cell_type": "markdown",
      "metadata": {
        "id": "RVg3JzoZguaH",
        "colab_type": "text"
      },
      "source": [
        "# 残差（Residual）と最小二乗法（Least Squares Method: LSM）\n",
        "\n",
        "## Residual\n",
        "実際の数値と予測した数値との差を回帰残差または残差と呼ぶ。\n",
        "\n"
      ]
    },
    {
      "cell_type": "markdown",
      "metadata": {
        "id": "XZIz6oKUhipz",
        "colab_type": "text"
      },
      "source": [
        "$\\hat{y} = wx + b$"
      ]
    },
    {
      "cell_type": "markdown",
      "metadata": {
        "id": "Vvv7nNLmihwV",
        "colab_type": "text"
      },
      "source": [
        "残差を計策することで、線形モデルの予測の良し悪しがわかる。\n",
        "\n",
        "すべてのデータポイントの残差の合計が最小になるのが最適な予測モデルといえる。\n",
        "\n",
        "#### 最小の残差の合計を導き出す\n",
        "\n",
        "* $\\sum{|r_n|}$\n",
        "\n",
        "* $\\sum(r_n)^2$\n",
        "  - 最小二乗法(Least Squares Method = LSM)"
      ]
    },
    {
      "cell_type": "code",
      "metadata": {
        "id": "0HWgxSPUg_gz",
        "colab_type": "code",
        "colab": {}
      },
      "source": [
        "import numpy as np\n",
        "import matplotlib.pyplot as plt\n",
        "import pandas as pd"
      ],
      "execution_count": 0,
      "outputs": []
    }
  ]
}