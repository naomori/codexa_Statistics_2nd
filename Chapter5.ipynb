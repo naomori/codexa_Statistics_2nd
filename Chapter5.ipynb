{
  "nbformat": 4,
  "nbformat_minor": 0,
  "metadata": {
    "colab": {
      "name": "Chapter5.ipynb",
      "version": "0.3.2",
      "provenance": [],
      "include_colab_link": true
    },
    "kernelspec": {
      "name": "python3",
      "display_name": "Python 3"
    }
  },
  "cells": [
    {
      "cell_type": "markdown",
      "metadata": {
        "id": "view-in-github",
        "colab_type": "text"
      },
      "source": [
        "<a href=\"https://colab.research.google.com/github/naomori/codexa_Statistics_2nd/blob/master/Chapter5.ipynb\" target=\"_parent\"><img src=\"https://colab.research.google.com/assets/colab-badge.svg\" alt=\"Open In Colab\"/></a>"
      ]
    },
    {
      "cell_type": "markdown",
      "metadata": {
        "id": "JnGR152BhATu",
        "colab_type": "text"
      },
      "source": [
        "# 正規分布の性質\n"
      ]
    },
    {
      "cell_type": "markdown",
      "metadata": {
        "id": "hWg_bWN2hqxB",
        "colab_type": "text"
      },
      "source": [
        "## 練習問題\n",
        "とある市の20歳男性の身長のデータを取ったところ、\n",
        "正規分布に従っており、平均が176cmで標準偏差が5.1cmだった"
      ]
    },
    {
      "cell_type": "code",
      "metadata": {
        "id": "w8pIrAMpg8xs",
        "colab_type": "code",
        "colab": {}
      },
      "source": [
        "import numpy as np\n",
        "import matplotlib.pyplot as plt\n",
        "import pandas as pd"
      ],
      "execution_count": 0,
      "outputs": []
    },
    {
      "cell_type": "code",
      "metadata": {
        "id": "Xv6tyCWDh6TE",
        "colab_type": "code",
        "colab": {}
      },
      "source": [
        "data = np.random.normal(loc=176, scale=5.1, size=1000)"
      ],
      "execution_count": 0,
      "outputs": []
    },
    {
      "cell_type": "code",
      "metadata": {
        "id": "IP5FicytiRqO",
        "colab_type": "code",
        "colab": {
          "base_uri": "https://localhost:8080/",
          "height": 269
        },
        "outputId": "a3505d61-98c6-4759-89d9-2d7d52b07d1f"
      },
      "source": [
        "df = pd.DataFrame(data).plot(kind='Density')\n",
        "plt.grid(True)\n",
        "plt.show()"
      ],
      "execution_count": 14,
      "outputs": [
        {
          "output_type": "display_data",
          "data": {
            "image/png": "[encoded data removed]",
            "text/plain": [
              "<Figure size 432x288 with 1 Axes>"
            ]
          },
          "metadata": {
            "tags": []
          }
        }
      ]
    },
    {
      "cell_type": "markdown",
      "metadata": {
        "id": "Lnf-k4J8jTKH",
        "colab_type": "text"
      },
      "source": [
        "#### (A) 170.9 cm 以下の割合は？\n",
        "\n",
        "正規分布 68-95-99.7 ルールを使ってみる"
      ]
    },
    {
      "cell_type": "code",
      "metadata": {
        "id": "seEMSS-ViUly",
        "colab_type": "code",
        "colab": {
          "base_uri": "https://localhost:8080/",
          "height": 34
        },
        "outputId": "390e6531-7318-4272-b11f-9781866b2726"
      },
      "source": [
        "(100-68)/2"
      ],
      "execution_count": 15,
      "outputs": [
        {
          "output_type": "execute_result",
          "data": {
            "text/plain": [
              "16.0"
            ]
          },
          "metadata": {
            "tags": []
          },
          "execution_count": 15
        }
      ]
    },
    {
      "cell_type": "markdown",
      "metadata": {
        "id": "qSTgwx1VkKTJ",
        "colab_type": "text"
      },
      "source": [
        "#### (B) 165.8 cm - 186.2 cm の割合は？"
      ]
    },
    {
      "cell_type": "code",
      "metadata": {
        "id": "vSeKeH55kIuL",
        "colab_type": "code",
        "colab": {
          "base_uri": "https://localhost:8080/",
          "height": 121
        },
        "outputId": "cf6fb92b-6919-4d1a-f539-d3dcae364456"
      },
      "source": [
        "print(99.7, 176 - 5.1*3)\n",
        "print(95, 176 - 5.1*2)\n",
        "print(68, 176 - 5.1)\n",
        "print(68, 176 + 5.1)\n",
        "print(95, 176 + 5.1*2)\n",
        "print(99.7, 176 + 5.1*3)"
      ],
      "execution_count": 17,
      "outputs": [
        {
          "output_type": "stream",
          "text": [
            "99.7 160.7\n",
            "95 165.8\n",
            "68 170.9\n",
            "68 181.1\n",
            "95 186.2\n",
            "99.7 191.3\n"
          ],
          "name": "stdout"
        }
      ]
    },
    {
      "cell_type": "markdown",
      "metadata": {
        "id": "pIwYlFMpk5WB",
        "colab_type": "text"
      },
      "source": [
        "answer: 95"
      ]
    },
    {
      "cell_type": "markdown",
      "metadata": {
        "id": "YmIT-3tTk8pn",
        "colab_type": "text"
      },
      "source": [
        "#### (C) 191.3 cm以上の人の割合は？"
      ]
    },
    {
      "cell_type": "code",
      "metadata": {
        "id": "wInA07fGkl5E",
        "colab_type": "code",
        "colab": {
          "base_uri": "https://localhost:8080/",
          "height": 52
        },
        "outputId": "77470eb7-58ad-4eca-d1a5-9625831b0e29"
      },
      "source": [
        "print((100-99.7)/2)\n",
        "print(round((100-99.7)/2, 2))"
      ],
      "execution_count": 25,
      "outputs": [
        {
          "output_type": "stream",
          "text": [
            "0.14999999999999858\n",
            "0.15\n"
          ],
          "name": "stdout"
        }
      ]
    },
    {
      "cell_type": "markdown",
      "metadata": {
        "id": "td41gS_WlkwH",
        "colab_type": "text"
      },
      "source": [
        "#### Aくんの身長は178.6cm\n",
        "Aくんより慎重が低い人の割合は？"
      ]
    },
    {
      "cell_type": "markdown",
      "metadata": {
        "id": "f2EjZ_5Vl_Sb",
        "colab_type": "text"
      },
      "source": [
        "Zテーブル（標準正規分布表）を使う。\n",
        "\n",
        "まずは、AくんのZスコアを求める"
      ]
    },
    {
      "cell_type": "code",
      "metadata": {
        "id": "BcTn7GKLlCGQ",
        "colab_type": "code",
        "colab": {
          "base_uri": "https://localhost:8080/",
          "height": 34
        },
        "outputId": "9cbcc925-4be8-491c-e262-0da10279801f"
      },
      "source": [
        "round((178.6 - 176) / 5.1, 2)"
      ],
      "execution_count": 27,
      "outputs": [
        {
          "output_type": "execute_result",
          "data": {
            "text/plain": [
              "0.51"
            ]
          },
          "metadata": {
            "tags": []
          },
          "execution_count": 27
        }
      ]
    },
    {
      "cell_type": "code",
      "metadata": {
        "id": "0Iq0AnhHmXa-",
        "colab_type": "code",
        "colab": {}
      },
      "source": [
        ""
      ],
      "execution_count": 0,
      "outputs": []
    }
  ]
}